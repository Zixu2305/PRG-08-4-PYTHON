{
 "cells": [
  {
   "cell_type": "code",
   "execution_count": 1,
   "metadata": {},
   "outputs": [],
   "source": [
    "import numpy as np \n",
    "import pandas as pd \n",
    "from sklearn.preprocessing import StandardScaler\n",
    "from sklearn.model_selection import train_test_split\n",
    "from sklearn.feature_extraction.text import TfidfVectorizer\n",
    "from scipy.sparse import hstack, csr_matrix\n",
    "from sklearn.neural_network import MLPClassifier\n",
    "from xgboost import XGBClassifier\n",
    "import pickle\n",
    "from joblib import load\n",
    "import myFunc"
   ]
  },
  {
   "cell_type": "code",
   "execution_count": 2,
   "metadata": {},
   "outputs": [],
   "source": [
    "df = pd.read_csv('./data/testSampleChatgpt.csv', encoding='ISO-8859-1')\n",
    "dfClean = pd.read_csv('./data/cleanedData.csv')"
   ]
  },
  {
   "cell_type": "code",
   "execution_count": 3,
   "metadata": {},
   "outputs": [
    {
     "name": "stdout",
     "output_type": "stream",
     "text": [
      "<class 'pandas.core.frame.DataFrame'>\n",
      "RangeIndex: 4 entries, 0 to 3\n",
      "Data columns (total 19 columns):\n",
      " #   Column            Non-Null Count  Dtype \n",
      "---  ------            --------------  ----- \n",
      " 0   sender            4 non-null      object\n",
      " 1   receiver          4 non-null      object\n",
      " 2   subject           4 non-null      object\n",
      " 3   body              4 non-null      object\n",
      " 4   label             4 non-null      int64 \n",
      " 5   urls              4 non-null      int64 \n",
      " 6   emailDomain       4 non-null      object\n",
      " 7   generalConsumer   4 non-null      int64 \n",
      " 8   govDomain         4 non-null      int64 \n",
      " 9   eduDomain         4 non-null      int64 \n",
      " 10  orgDomain         4 non-null      int64 \n",
      " 11  netDomain         4 non-null      int64 \n",
      " 12  otherDomain       4 non-null      int64 \n",
      " 13  html              4 non-null      int64 \n",
      " 14  fullContent       4 non-null      object\n",
      " 15  punctuationCount  4 non-null      int64 \n",
      " 16  subjectLength     4 non-null      int64 \n",
      " 17  bodyLength        4 non-null      int64 \n",
      " 18  totalLength       4 non-null      int64 \n",
      "dtypes: int64(13), object(6)\n",
      "memory usage: 740.0+ bytes\n",
      "None\n"
     ]
    },
    {
     "name": "stderr",
     "output_type": "stream",
     "text": [
      "/Users/zixu/Y1T1/PRG FUNDEMENTAL/PYTHON/PROJECT/SIT-INF1002-PROG-FUNDS/Main/myFunc.py:17: UserWarning: This pattern is interpreted as a regular expression, and has match groups. To actually get the groups, use str.extract.\n",
      "  df['generalConsumer'] = df['emailDomain'].str.contains(publicEmailDomainRegex, regex=True, na=False).astype(int)\n",
      "/Users/zixu/Y1T1/PRG FUNDEMENTAL/PYTHON/PROJECT/SIT-INF1002-PROG-FUNDS/Main/myFunc.py:18: UserWarning: This pattern is interpreted as a regular expression, and has match groups. To actually get the groups, use str.extract.\n",
      "  df['govDomain'] = df['emailDomain'].str.contains(govRegex, regex=True, na=False).astype(int)\n",
      "/Users/zixu/Y1T1/PRG FUNDEMENTAL/PYTHON/PROJECT/SIT-INF1002-PROG-FUNDS/Main/myFunc.py:19: UserWarning: This pattern is interpreted as a regular expression, and has match groups. To actually get the groups, use str.extract.\n",
      "  df['eduDomain'] = df['emailDomain'].str.contains(eduRegex, regex=True, na=False).astype(int)\n",
      "/Users/zixu/Y1T1/PRG FUNDEMENTAL/PYTHON/PROJECT/SIT-INF1002-PROG-FUNDS/Main/myFunc.py:20: UserWarning: This pattern is interpreted as a regular expression, and has match groups. To actually get the groups, use str.extract.\n",
      "  df['orgDomain'] = df['emailDomain'].str.contains(orgRegex, regex=True, na=False).astype(int)\n",
      "/Users/zixu/Y1T1/PRG FUNDEMENTAL/PYTHON/PROJECT/SIT-INF1002-PROG-FUNDS/Main/myFunc.py:21: UserWarning: This pattern is interpreted as a regular expression, and has match groups. To actually get the groups, use str.extract.\n",
      "  df['netDomain'] = df['emailDomain'].str.contains(netRegex, regex=True, na=False).astype(int)\n"
     ]
    }
   ],
   "source": [
    "df = df.drop(columns=['Unnamed: 6'])\n",
    "df = myFunc.cleanDataframe(df)\n",
    "print(df.info())"
   ]
  },
  {
   "cell_type": "code",
   "execution_count": 4,
   "metadata": {},
   "outputs": [],
   "source": [
    "# Separate target(label) from predictor columns\n",
    "y = df.label\n",
    "\n",
    "# TF-IDF vectorization\n",
    "tfidf_vectorizer = TfidfVectorizer()\n",
    "tfidf_vectorizer.fit_transform(dfClean['fullContent'])\n",
    "tfidf_matrix = tfidf_vectorizer.transform(df['fullContent'])\n",
    "\n",
    "# Continuous features normalization\n",
    "scaler = StandardScaler()\n",
    "contd = scaler.fit_transform(df[['punctuationCount', 'subjectLength', 'bodyLength', 'totalLength']])\n",
    "\n",
    "# Sparse binary features\n",
    "sparse_features = csr_matrix(df[[\"urls\", \"totalLength\", \"generalConsumer\", \"govDomain\", \"eduDomain\", \"orgDomain\", \"netDomain\", \"otherDomain\", \"html\", \"punctuationCount\"]].values)\n",
    "\n",
    "X = hstack([sparse_features, contd, tfidf_matrix])\n",
    "\n"
   ]
  },
  {
   "cell_type": "code",
   "execution_count": 5,
   "metadata": {},
   "outputs": [
    {
     "name": "stdout",
     "output_type": "stream",
     "text": [
      "MLPClassifier(early_stopping=True, hidden_layer_sizes=80, max_iter=50,\n",
      "              random_state=1, verbose=True)\n"
     ]
    }
   ],
   "source": [
    "with open('./model/MLPClassifier_ZiHin.pkl', 'rb') as file: \n",
    "    mlpC = pickle.load(file)\n",
    "# xgbRandomSearch = load('./model/XGBoost_random_sebastian.joblib')\n",
    "# xgb = XGBClassifier(random_search.best_params_)\n",
    "print(mlpC)\n",
    "# print(xgb)"
   ]
  },
  {
   "cell_type": "code",
   "execution_count": 7,
   "metadata": {},
   "outputs": [
    {
     "name": "stdout",
     "output_type": "stream",
     "text": [
      "[[0.31833736 0.68166264]\n",
      " [0.04527401 0.95472599]\n",
      " [0.85525244 0.14474756]\n",
      " [0.96362608 0.03637392]]\n"
     ]
    }
   ],
   "source": [
    "# Evaluate the model\n",
    "mlpC_pred_prob = mlpC.predict_proba(X)\n",
    "mlpC_pred = mlpC.predict(X)\n",
    "print(mlpC_pred_prob)\n"
   ]
  },
  {
   "cell_type": "code",
   "execution_count": 8,
   "metadata": {},
   "outputs": [
    {
     "name": "stdout",
     "output_type": "stream",
     "text": [
      "[1 1 0 0]\n"
     ]
    }
   ],
   "source": [
    "print(mlpC_pred)"
   ]
  },
  {
   "cell_type": "code",
   "execution_count": null,
   "metadata": {},
   "outputs": [],
   "source": []
  }
 ],
 "metadata": {
  "kernelspec": {
   "display_name": "Python 3",
   "language": "python",
   "name": "python3"
  },
  "language_info": {
   "codemirror_mode": {
    "name": "ipython",
    "version": 3
   },
   "file_extension": ".py",
   "mimetype": "text/x-python",
   "name": "python",
   "nbconvert_exporter": "python",
   "pygments_lexer": "ipython3",
   "version": "3.12.4"
  }
 },
 "nbformat": 4,
 "nbformat_minor": 2
}
