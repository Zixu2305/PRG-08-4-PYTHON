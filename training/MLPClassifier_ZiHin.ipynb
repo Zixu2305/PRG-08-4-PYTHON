{
 "cells": [
  {
   "cell_type": "code",
   "execution_count": 1,
   "metadata": {},
   "outputs": [],
   "source": [
    "import numpy as np \n",
    "import pandas as pd \n",
    "from sklearn.preprocessing import StandardScaler\n",
    "from sklearn.metrics import accuracy_score\n",
    "from sklearn.model_selection import train_test_split\n",
    "from sklearn.feature_extraction.text import TfidfVectorizer\n",
    "from scipy.sparse import hstack, csr_matrix\n",
    "from sklearn.neural_network import MLPClassifier\n",
    "import pickle\n",
    "import sys\n",
    "sys.path.append('../') \n",
    "from myFunc import printCM"
   ]
  },
  {
   "cell_type": "code",
   "execution_count": 2,
   "metadata": {},
   "outputs": [],
   "source": [
    "df = pd.read_csv(\"../data/cleanedData.csv\")"
   ]
  },
  {
   "cell_type": "code",
   "execution_count": 3,
   "metadata": {},
   "outputs": [],
   "source": [
    "# Separate target(label) from predictor columns\n",
    "y = df.label\n",
    "\n",
    "# TF-IDF vectorization\n",
    "tfidf_vectorizer = TfidfVectorizer()\n",
    "tfidf_matrix = tfidf_vectorizer.fit_transform(df['fullContent'])\n",
    "\n",
    "# Continuous features normalization\n",
    "scaler = StandardScaler()\n",
    "contd = scaler.fit_transform(df[['punctuationCount', 'subjectLength', 'bodyLength', 'totalLength']])\n",
    "\n",
    "# Sparse binary features\n",
    "sparse_features = csr_matrix(df[[\"urls\", \"totalLength\", \"generalConsumer\", \"govDomain\", \"eduDomain\", \"orgDomain\", \"netDomain\", \"otherDomain\", \"html\", \"punctuationCount\"]].values)\n",
    "\n",
    "X = hstack([sparse_features, contd, tfidf_matrix])\n",
    "\n",
    "\n",
    "X_train, X_test, y_train, y_test = train_test_split(X, y, test_size = 0.2, random_state = 1)"
   ]
  },
  {
   "cell_type": "code",
   "execution_count": 4,
   "metadata": {},
   "outputs": [
    {
     "name": "stdout",
     "output_type": "stream",
     "text": [
      "label\n",
      "1    4648\n",
      "0    4210\n",
      "Name: count, dtype: int64\n"
     ]
    }
   ],
   "source": [
    "print(y_test.value_counts())"
   ]
  },
  {
   "cell_type": "code",
   "execution_count": 5,
   "metadata": {},
   "outputs": [
    {
     "name": "stdout",
     "output_type": "stream",
     "text": [
      "Iteration 1, loss = 0.63829409\n",
      "Validation score: 0.702032\n",
      "Iteration 2, loss = 0.58623026\n",
      "Validation score: 0.730248\n",
      "Iteration 3, loss = 0.52297633\n",
      "Validation score: 0.806716\n",
      "Iteration 4, loss = 0.45815973\n",
      "Validation score: 0.902088\n",
      "Iteration 5, loss = 0.40260560\n",
      "Validation score: 0.931716\n",
      "Iteration 6, loss = 0.35152761\n",
      "Validation score: 0.941309\n",
      "Iteration 7, loss = 0.32651097\n",
      "Validation score: 0.908296\n",
      "Iteration 8, loss = 0.26050991\n",
      "Validation score: 0.827596\n",
      "Iteration 9, loss = 0.24182618\n",
      "Validation score: 0.955700\n",
      "Iteration 10, loss = 0.23571641\n",
      "Validation score: 0.956264\n",
      "Iteration 11, loss = 0.17459545\n",
      "Validation score: 0.976298\n",
      "Iteration 12, loss = 0.15583334\n",
      "Validation score: 0.971501\n",
      "Iteration 13, loss = 0.18237434\n",
      "Validation score: 0.960497\n",
      "Iteration 14, loss = 0.17574542\n",
      "Validation score: 0.982506\n",
      "Iteration 15, loss = 0.11526730\n",
      "Validation score: 0.966140\n",
      "Iteration 16, loss = 0.17362429\n",
      "Validation score: 0.973194\n",
      "Iteration 17, loss = 0.10396544\n",
      "Validation score: 0.983070\n",
      "Iteration 18, loss = 0.11190857\n",
      "Validation score: 0.979684\n",
      "Iteration 19, loss = 0.13039769\n",
      "Validation score: 0.983070\n",
      "Iteration 20, loss = 0.13056253\n",
      "Validation score: 0.987020\n",
      "Accuracy: 0.9880334161210206\n"
     ]
    },
    {
     "name": "stderr",
     "output_type": "stream",
     "text": [
      "/Library/Frameworks/Python.framework/Versions/3.12/lib/python3.12/site-packages/sklearn/neural_network/_multilayer_perceptron.py:690: ConvergenceWarning: Stochastic Optimizer: Maximum iterations (20) reached and the optimization hasn't converged yet.\n",
      "  warnings.warn(\n"
     ]
    }
   ],
   "source": [
    "# base model\n",
    "basem = MLPClassifier(hidden_layer_sizes = 5, random_state=1, max_iter=20, early_stopping=True, verbose=True).fit(X_train, y_train)\n",
    "\n",
    "# Evaluate the model\n",
    "y_pred_prob = basem.predict(X_test)\n",
    "y_pred_binary = (y_pred_prob > 0.5).astype(int)\n",
    "\n",
    "# Calculate accuracy\n",
    "accuracy = accuracy_score(y_test, y_pred_binary)\n",
    "print(f'Accuracy: {accuracy}')"
   ]
  },
  {
   "cell_type": "code",
   "execution_count": 7,
   "metadata": {},
   "outputs": [
    {
     "name": "stdout",
     "output_type": "stream",
     "text": [
      "              precision    recall  f1-score   support\n",
      "\n",
      "           0       0.98      0.99      0.99      4210\n",
      "           1       0.99      0.98      0.99      4648\n",
      "\n",
      "    accuracy                           0.99      8858\n",
      "   macro avg       0.99      0.99      0.99      8858\n",
      "weighted avg       0.99      0.99      0.99      8858\n",
      "\n"
     ]
    },
    {
     "data": {
      "image/png": "[encoded data removed]",
      "text/plain": [
       "<Figure size 800x600 with 1 Axes>"
      ]
     },
     "metadata": {},
     "output_type": "display_data"
    }
   ],
   "source": [
    "# create heatmap\n",
    "printCM(y_pred_binary, y_test)"
   ]
  },
  {
   "cell_type": "code",
   "execution_count": 8,
   "metadata": {},
   "outputs": [
    {
     "name": "stdout",
     "output_type": "stream",
     "text": [
      "Iteration 1, loss = 0.77264405\n",
      "Validation score: 0.930869\n",
      "Iteration 2, loss = 0.36942951\n",
      "Validation score: 0.957957\n",
      "Iteration 3, loss = 0.20596170\n",
      "Validation score: 0.980530\n",
      "Iteration 4, loss = 0.16422112\n",
      "Validation score: 0.967269\n",
      "Iteration 5, loss = 0.15560586\n",
      "Validation score: 0.983634\n",
      "Iteration 6, loss = 0.22147926\n",
      "Validation score: 0.975451\n",
      "Iteration 7, loss = 0.39302430\n",
      "Validation score: 0.987585\n",
      "Iteration 8, loss = 0.17418407\n",
      "Validation score: 0.987020\n",
      "Iteration 9, loss = 0.14906574\n",
      "Validation score: 0.989560\n",
      "Iteration 10, loss = 0.13272676\n",
      "Validation score: 0.983352\n",
      "Iteration 11, loss = 0.09311609\n",
      "Validation score: 0.975451\n",
      "Iteration 12, loss = 0.12075676\n",
      "Validation score: 0.987585\n",
      "Iteration 13, loss = 0.08349388\n",
      "Validation score: 0.989560\n",
      "Iteration 14, loss = 0.14305088\n",
      "Validation score: 0.988431\n",
      "Iteration 15, loss = 0.11871357\n",
      "Validation score: 0.993792\n",
      "Iteration 16, loss = 0.08506101\n",
      "Validation score: 0.994639\n",
      "Iteration 17, loss = 0.07602840\n",
      "Validation score: 0.994639\n",
      "Iteration 18, loss = 0.08810646\n",
      "Validation score: 0.987020\n",
      "Iteration 19, loss = 0.19266074\n",
      "Validation score: 0.974887\n",
      "Iteration 20, loss = 0.10624327\n",
      "Validation score: 0.984481\n",
      "Iteration 21, loss = 0.10061317\n",
      "Validation score: 0.980248\n",
      "Iteration 22, loss = 0.15347361\n",
      "Validation score: 0.986456\n",
      "Iteration 23, loss = 0.09901148\n",
      "Validation score: 0.990406\n",
      "Iteration 24, loss = 0.10624547\n",
      "Validation score: 0.993792\n",
      "Iteration 25, loss = 0.14524163\n",
      "Validation score: 0.993228\n",
      "Iteration 26, loss = 0.09675128\n",
      "Validation score: 0.995203\n",
      "Iteration 27, loss = 0.12003808\n",
      "Validation score: 0.993510\n",
      "Iteration 28, loss = 0.06867230\n",
      "Validation score: 0.942156\n",
      "Iteration 29, loss = 0.09123311\n",
      "Validation score: 0.967269\n",
      "Iteration 30, loss = 0.10112586\n",
      "Validation score: 0.995203\n",
      "Iteration 31, loss = 0.12632228\n",
      "Validation score: 0.994921\n",
      "Iteration 32, loss = 0.12052881\n",
      "Validation score: 0.981377\n",
      "Iteration 33, loss = 0.08507988\n",
      "Validation score: 0.992664\n",
      "Iteration 34, loss = 0.09457641\n",
      "Validation score: 0.978837\n",
      "Iteration 35, loss = 0.09325462\n",
      "Validation score: 0.994639\n",
      "Iteration 36, loss = 0.12530000\n",
      "Validation score: 0.968115\n",
      "Iteration 37, loss = 0.07848462\n",
      "Validation score: 0.993228\n",
      "Validation score did not improve more than tol=0.000100 for 10 consecutive epochs. Stopping.\n",
      "Accuracy: 0.9906299390381575\n"
     ]
    }
   ],
   "source": [
    "# 2nd model\n",
    "tunemodel = MLPClassifier(hidden_layer_sizes = 80, random_state=1, max_iter=50, early_stopping=True, verbose=True).fit(X_train, y_train)\n",
    "\n",
    "# Evaluate the model\n",
    "y_pred_prob = tunemodel.predict(X_test)\n",
    "y_pred_binary = (y_pred_prob > 0.5).astype(int)\n",
    "\n",
    "# Calculate accuracy\n",
    "accuracy = accuracy_score(y_test, y_pred_binary)\n",
    "print(f'Accuracy: {accuracy}')\n"
   ]
  },
  {
   "cell_type": "code",
   "execution_count": 9,
   "metadata": {},
   "outputs": [
    {
     "name": "stdout",
     "output_type": "stream",
     "text": [
      "              precision    recall  f1-score   support\n",
      "\n",
      "           0       0.99      0.99      0.99      4210\n",
      "           1       0.99      0.99      0.99      4648\n",
      "\n",
      "    accuracy                           0.99      8858\n",
      "   macro avg       0.99      0.99      0.99      8858\n",
      "weighted avg       0.99      0.99      0.99      8858\n",
      "\n"
     ]
    },
    {
     "data": {
      "image/png": "[encoded data removed]",
      "text/plain": [
       "<Figure size 800x600 with 1 Axes>"
      ]
     },
     "metadata": {},
     "output_type": "display_data"
    }
   ],
   "source": [
    "# create heatmap\n",
    "printCM(y_pred_binary, y_test)"
   ]
  },
  {
   "cell_type": "code",
   "execution_count": 10,
   "metadata": {},
   "outputs": [],
   "source": [
    "#Saving the tuned models that were already fitted with training data\n",
    "with open('../model/MLPClassifier_ZiHin.pkl', 'wb') as file: pickle.dump(tunemodel, file)"
   ]
  }
 ],
 "metadata": {
  "kernelspec": {
   "display_name": "Python 3",
   "language": "python",
   "name": "python3"
  },
  "language_info": {
   "codemirror_mode": {
    "name": "ipython",
    "version": 3
   },
   "file_extension": ".py",
   "mimetype": "text/x-python",
   "name": "python",
   "nbconvert_exporter": "python",
   "pygments_lexer": "ipython3",
   "version": "3.12.4"
  }
 },
 "nbformat": 4,
 "nbformat_minor": 2
}
